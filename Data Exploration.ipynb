{
 "cells": [
  {
   "cell_type": "code",
   "execution_count": 1,
   "id": "9f680584",
   "metadata": {},
   "outputs": [],
   "source": [
    "import pandas as pd\n",
    "import os\n",
    "import numpy as np\n",
    "from datetime import datetime\n",
    "import pyarrow\n",
    "import fastparquet\n",
    "import boto3"
   ]
  },
  {
   "cell_type": "code",
   "execution_count": 2,
   "id": "cce23243",
   "metadata": {},
   "outputs": [],
   "source": [
    "csv_path = 's3://s3-raw-dadosmaistodos/laptop_data_source/california_housing_train_2022-12-16.csv'\n",
    "sep=','"
   ]
  },
  {
   "cell_type": "code",
   "execution_count": 3,
   "id": "d2254b33",
   "metadata": {},
   "outputs": [],
   "source": [
    "client = boto3.client('s3')"
   ]
  },
  {
   "cell_type": "code",
   "execution_count": 4,
   "id": "89379ecf",
   "metadata": {},
   "outputs": [],
   "source": [
    "df = pd.read_csv(csv_path, sep=sep)"
   ]
  },
  {
   "cell_type": "code",
   "execution_count": 5,
   "id": "823c1d23",
   "metadata": {},
   "outputs": [
    {
     "data": {
      "text/html": [
       "<div>\n",
       "<style scoped>\n",
       "    .dataframe tbody tr th:only-of-type {\n",
       "        vertical-align: middle;\n",
       "    }\n",
       "\n",
       "    .dataframe tbody tr th {\n",
       "        vertical-align: top;\n",
       "    }\n",
       "\n",
       "    .dataframe thead th {\n",
       "        text-align: right;\n",
       "    }\n",
       "</style>\n",
       "<table border=\"1\" class=\"dataframe\">\n",
       "  <thead>\n",
       "    <tr style=\"text-align: right;\">\n",
       "      <th></th>\n",
       "      <th>longitude</th>\n",
       "      <th>latitude</th>\n",
       "      <th>housing_median_age</th>\n",
       "      <th>total_rooms</th>\n",
       "      <th>total_bedrooms</th>\n",
       "      <th>population</th>\n",
       "      <th>households</th>\n",
       "      <th>median_income</th>\n",
       "      <th>median_house_value</th>\n",
       "    </tr>\n",
       "  </thead>\n",
       "  <tbody>\n",
       "    <tr>\n",
       "      <th>0</th>\n",
       "      <td>-114.31</td>\n",
       "      <td>34.19</td>\n",
       "      <td>15.0</td>\n",
       "      <td>5612.0</td>\n",
       "      <td>1283.0</td>\n",
       "      <td>1015.0</td>\n",
       "      <td>472.0</td>\n",
       "      <td>1.4936</td>\n",
       "      <td>66900.0</td>\n",
       "    </tr>\n",
       "    <tr>\n",
       "      <th>1</th>\n",
       "      <td>-114.47</td>\n",
       "      <td>34.40</td>\n",
       "      <td>19.0</td>\n",
       "      <td>7650.0</td>\n",
       "      <td>1901.0</td>\n",
       "      <td>1129.0</td>\n",
       "      <td>463.0</td>\n",
       "      <td>1.8200</td>\n",
       "      <td>80100.0</td>\n",
       "    </tr>\n",
       "    <tr>\n",
       "      <th>2</th>\n",
       "      <td>-114.56</td>\n",
       "      <td>33.69</td>\n",
       "      <td>17.0</td>\n",
       "      <td>720.0</td>\n",
       "      <td>174.0</td>\n",
       "      <td>333.0</td>\n",
       "      <td>117.0</td>\n",
       "      <td>1.6509</td>\n",
       "      <td>85700.0</td>\n",
       "    </tr>\n",
       "    <tr>\n",
       "      <th>3</th>\n",
       "      <td>-114.57</td>\n",
       "      <td>33.64</td>\n",
       "      <td>14.0</td>\n",
       "      <td>1501.0</td>\n",
       "      <td>337.0</td>\n",
       "      <td>515.0</td>\n",
       "      <td>226.0</td>\n",
       "      <td>3.1917</td>\n",
       "      <td>73400.0</td>\n",
       "    </tr>\n",
       "    <tr>\n",
       "      <th>4</th>\n",
       "      <td>-114.57</td>\n",
       "      <td>33.57</td>\n",
       "      <td>20.0</td>\n",
       "      <td>1454.0</td>\n",
       "      <td>326.0</td>\n",
       "      <td>624.0</td>\n",
       "      <td>262.0</td>\n",
       "      <td>1.9250</td>\n",
       "      <td>65500.0</td>\n",
       "    </tr>\n",
       "  </tbody>\n",
       "</table>\n",
       "</div>"
      ],
      "text/plain": [
       "   longitude  latitude  housing_median_age  total_rooms  total_bedrooms  \\\n",
       "0    -114.31     34.19                15.0       5612.0          1283.0   \n",
       "1    -114.47     34.40                19.0       7650.0          1901.0   \n",
       "2    -114.56     33.69                17.0        720.0           174.0   \n",
       "3    -114.57     33.64                14.0       1501.0           337.0   \n",
       "4    -114.57     33.57                20.0       1454.0           326.0   \n",
       "\n",
       "   population  households  median_income  median_house_value  \n",
       "0      1015.0       472.0         1.4936             66900.0  \n",
       "1      1129.0       463.0         1.8200             80100.0  \n",
       "2       333.0       117.0         1.6509             85700.0  \n",
       "3       515.0       226.0         3.1917             73400.0  \n",
       "4       624.0       262.0         1.9250             65500.0  "
      ]
     },
     "execution_count": 5,
     "metadata": {},
     "output_type": "execute_result"
    }
   ],
   "source": [
    "df.head()"
   ]
  },
  {
   "cell_type": "code",
   "execution_count": 6,
   "id": "5fc24a74",
   "metadata": {},
   "outputs": [
    {
     "data": {
      "text/plain": [
       "longitude             float64\n",
       "latitude              float64\n",
       "housing_median_age    float64\n",
       "total_rooms           float64\n",
       "total_bedrooms        float64\n",
       "population            float64\n",
       "households            float64\n",
       "median_income         float64\n",
       "median_house_value    float64\n",
       "dtype: object"
      ]
     },
     "execution_count": 6,
     "metadata": {},
     "output_type": "execute_result"
    }
   ],
   "source": [
    "df.dtypes"
   ]
  },
  {
   "cell_type": "code",
   "execution_count": 7,
   "id": "03c48d35",
   "metadata": {},
   "outputs": [
    {
     "name": "stdout",
     "output_type": "stream",
     "text": [
      "<class 'pandas.core.frame.DataFrame'>\n",
      "RangeIndex: 17000 entries, 0 to 16999\n",
      "Data columns (total 9 columns):\n",
      " #   Column              Non-Null Count  Dtype  \n",
      "---  ------              --------------  -----  \n",
      " 0   longitude           17000 non-null  float64\n",
      " 1   latitude            17000 non-null  float64\n",
      " 2   housing_median_age  17000 non-null  float64\n",
      " 3   total_rooms         17000 non-null  float64\n",
      " 4   total_bedrooms      17000 non-null  float64\n",
      " 5   population          17000 non-null  float64\n",
      " 6   households          17000 non-null  float64\n",
      " 7   median_income       17000 non-null  float64\n",
      " 8   median_house_value  17000 non-null  float64\n",
      "dtypes: float64(9)\n",
      "memory usage: 1.2 MB\n"
     ]
    }
   ],
   "source": [
    "df.info()"
   ]
  },
  {
   "cell_type": "code",
   "execution_count": null,
   "id": "d0e15ca9",
   "metadata": {},
   "outputs": [],
   "source": [
    "# Qual a coluna com maior desvio padrão?"
   ]
  },
  {
   "cell_type": "code",
   "execution_count": 8,
   "id": "2b8dd845",
   "metadata": {},
   "outputs": [],
   "source": [
    "df_2 = df.describe()"
   ]
  },
  {
   "cell_type": "code",
   "execution_count": null,
   "id": "7241a2af",
   "metadata": {},
   "outputs": [],
   "source": [
    "df_2"
   ]
  },
  {
   "cell_type": "code",
   "execution_count": 9,
   "id": "1de9113c",
   "metadata": {},
   "outputs": [
    {
     "data": {
      "text/html": [
       "<div>\n",
       "<style scoped>\n",
       "    .dataframe tbody tr th:only-of-type {\n",
       "        vertical-align: middle;\n",
       "    }\n",
       "\n",
       "    .dataframe tbody tr th {\n",
       "        vertical-align: top;\n",
       "    }\n",
       "\n",
       "    .dataframe thead th {\n",
       "        text-align: right;\n",
       "    }\n",
       "</style>\n",
       "<table border=\"1\" class=\"dataframe\">\n",
       "  <thead>\n",
       "    <tr style=\"text-align: right;\">\n",
       "      <th></th>\n",
       "      <th>longitude</th>\n",
       "      <th>latitude</th>\n",
       "      <th>housing_median_age</th>\n",
       "      <th>total_rooms</th>\n",
       "      <th>total_bedrooms</th>\n",
       "      <th>population</th>\n",
       "      <th>households</th>\n",
       "      <th>median_income</th>\n",
       "      <th>median_house_value</th>\n",
       "    </tr>\n",
       "  </thead>\n",
       "  <tbody>\n",
       "    <tr>\n",
       "      <th>std</th>\n",
       "      <td>2.005166</td>\n",
       "      <td>2.13734</td>\n",
       "      <td>12.586937</td>\n",
       "      <td>2179.947071</td>\n",
       "      <td>421.499452</td>\n",
       "      <td>1147.852959</td>\n",
       "      <td>384.520841</td>\n",
       "      <td>1.908157</td>\n",
       "      <td>115983.764387</td>\n",
       "    </tr>\n",
       "  </tbody>\n",
       "</table>\n",
       "</div>"
      ],
      "text/plain": [
       "     longitude  latitude  housing_median_age  total_rooms  total_bedrooms  \\\n",
       "std   2.005166   2.13734           12.586937  2179.947071      421.499452   \n",
       "\n",
       "      population  households  median_income  median_house_value  \n",
       "std  1147.852959  384.520841       1.908157       115983.764387  "
      ]
     },
     "execution_count": 9,
     "metadata": {},
     "output_type": "execute_result"
    }
   ],
   "source": [
    "df_2.loc['std':'std']"
   ]
  },
  {
   "cell_type": "code",
   "execution_count": 10,
   "id": "63f8408a",
   "metadata": {},
   "outputs": [
    {
     "data": {
      "text/plain": [
       "115983.76438720913"
      ]
     },
     "execution_count": 10,
     "metadata": {},
     "output_type": "execute_result"
    }
   ],
   "source": [
    "max(df_2.loc['std':'std'].values.tolist()[0])"
   ]
  },
  {
   "cell_type": "code",
   "execution_count": null,
   "id": "23a5a568",
   "metadata": {},
   "outputs": [],
   "source": [
    "# Qual valor mínimo e o máximo?"
   ]
  },
  {
   "cell_type": "code",
   "execution_count": 11,
   "id": "d2c8f0f8",
   "metadata": {},
   "outputs": [],
   "source": [
    "df_min = min(df_2.loc['min':'min'].values.tolist()[0])"
   ]
  },
  {
   "cell_type": "code",
   "execution_count": 12,
   "id": "09e0b4c5",
   "metadata": {},
   "outputs": [],
   "source": [
    "df_max = max(df_2.loc['max':'max'].values.tolist()[0])"
   ]
  },
  {
   "cell_type": "code",
   "execution_count": 13,
   "id": "8a07abd4",
   "metadata": {},
   "outputs": [
    {
     "data": {
      "text/plain": [
       "-124.35"
      ]
     },
     "execution_count": 13,
     "metadata": {},
     "output_type": "execute_result"
    }
   ],
   "source": [
    "df_min"
   ]
  },
  {
   "cell_type": "code",
   "execution_count": 14,
   "id": "a86b4373",
   "metadata": {},
   "outputs": [
    {
     "data": {
      "text/plain": [
       "500001.0"
      ]
     },
     "execution_count": 14,
     "metadata": {},
     "output_type": "execute_result"
    }
   ],
   "source": [
    "df_max"
   ]
  },
  {
   "cell_type": "code",
   "execution_count": null,
   "id": "fb75fd9e",
   "metadata": {},
   "outputs": [],
   "source": [
    "# Read final parquet"
   ]
  },
  {
   "cell_type": "code",
   "execution_count": 52,
   "id": "8c8c13cb",
   "metadata": {},
   "outputs": [],
   "source": [
    "parquet = \"s3://s3-curated-dadosmaistodos/laptop_data_source/california_housing_train_curated_2022-12-16.parquet\""
   ]
  },
  {
   "cell_type": "code",
   "execution_count": 53,
   "id": "fabe43d3",
   "metadata": {},
   "outputs": [],
   "source": [
    "client = boto3.client('s3')"
   ]
  },
  {
   "cell_type": "code",
   "execution_count": 54,
   "id": "c06eab00",
   "metadata": {},
   "outputs": [],
   "source": [
    "df = pd.read_parquet(parquet)"
   ]
  },
  {
   "cell_type": "code",
   "execution_count": 55,
   "id": "3a503fad",
   "metadata": {},
   "outputs": [
    {
     "data": {
      "text/html": [
       "<div>\n",
       "<style scoped>\n",
       "    .dataframe tbody tr th:only-of-type {\n",
       "        vertical-align: middle;\n",
       "    }\n",
       "\n",
       "    .dataframe tbody tr th {\n",
       "        vertical-align: top;\n",
       "    }\n",
       "\n",
       "    .dataframe thead th {\n",
       "        text-align: right;\n",
       "    }\n",
       "</style>\n",
       "<table border=\"1\" class=\"dataframe\">\n",
       "  <thead>\n",
       "    <tr style=\"text-align: right;\">\n",
       "      <th></th>\n",
       "      <th></th>\n",
       "      <th>S_population</th>\n",
       "      <th>m_median_house_value</th>\n",
       "    </tr>\n",
       "    <tr>\n",
       "      <th>age</th>\n",
       "      <th>california_region</th>\n",
       "      <th></th>\n",
       "      <th></th>\n",
       "    </tr>\n",
       "  </thead>\n",
       "  <tbody>\n",
       "    <tr>\n",
       "      <th>acima_37</th>\n",
       "      <th>sul</th>\n",
       "      <td>2519076.0</td>\n",
       "      <td>227694.827766</td>\n",
       "    </tr>\n",
       "    <tr>\n",
       "      <th>ate_29</th>\n",
       "      <th>sul</th>\n",
       "      <td>3905630.0</td>\n",
       "      <td>220571.658462</td>\n",
       "    </tr>\n",
       "    <tr>\n",
       "      <th>acima_37</th>\n",
       "      <th>norte</th>\n",
       "      <td>2114160.0</td>\n",
       "      <td>217732.956241</td>\n",
       "    </tr>\n",
       "    <tr>\n",
       "      <th>ate_37</th>\n",
       "      <th>sul</th>\n",
       "      <td>3435282.0</td>\n",
       "      <td>212266.993286</td>\n",
       "    </tr>\n",
       "    <tr>\n",
       "      <th>de_0_ate_18</th>\n",
       "      <th>sul</th>\n",
       "      <td>4157987.0</td>\n",
       "      <td>209407.565043</td>\n",
       "    </tr>\n",
       "    <tr>\n",
       "      <th>ate_37</th>\n",
       "      <th>norte</th>\n",
       "      <td>1792950.0</td>\n",
       "      <td>195766.603215</td>\n",
       "    </tr>\n",
       "    <tr>\n",
       "      <th>ate_29</th>\n",
       "      <th>norte</th>\n",
       "      <td>3107411.0</td>\n",
       "      <td>188724.023810</td>\n",
       "    </tr>\n",
       "    <tr>\n",
       "      <th>de_0_ate_18</th>\n",
       "      <th>norte</th>\n",
       "      <td>3270261.0</td>\n",
       "      <td>177826.697686</td>\n",
       "    </tr>\n",
       "  </tbody>\n",
       "</table>\n",
       "</div>"
      ],
      "text/plain": [
       "                               S_population  m_median_house_value\n",
       "age         california_region                                    \n",
       "acima_37    sul                   2519076.0         227694.827766\n",
       "ate_29      sul                   3905630.0         220571.658462\n",
       "acima_37    norte                 2114160.0         217732.956241\n",
       "ate_37      sul                   3435282.0         212266.993286\n",
       "de_0_ate_18 sul                   4157987.0         209407.565043\n",
       "ate_37      norte                 1792950.0         195766.603215\n",
       "ate_29      norte                 3107411.0         188724.023810\n",
       "de_0_ate_18 norte                 3270261.0         177826.697686"
      ]
     },
     "execution_count": 55,
     "metadata": {},
     "output_type": "execute_result"
    }
   ],
   "source": [
    "df"
   ]
  },
  {
   "cell_type": "code",
   "execution_count": 56,
   "id": "6b90f79c",
   "metadata": {},
   "outputs": [
    {
     "name": "stdout",
     "output_type": "stream",
     "text": [
      "<class 'pandas.core.frame.DataFrame'>\n",
      "MultiIndex: 8 entries, ('acima_37', 'sul') to ('de_0_ate_18', 'norte')\n",
      "Data columns (total 2 columns):\n",
      " #   Column                Non-Null Count  Dtype  \n",
      "---  ------                --------------  -----  \n",
      " 0   S_population          8 non-null      float64\n",
      " 1   m_median_house_value  8 non-null      float64\n",
      "dtypes: float64(2)\n",
      "memory usage: 590.0+ bytes\n"
     ]
    }
   ],
   "source": [
    "df.info()"
   ]
  }
 ],
 "metadata": {
  "kernelspec": {
   "display_name": "Python 3 (ipykernel)",
   "language": "python",
   "name": "python3"
  },
  "language_info": {
   "codemirror_mode": {
    "name": "ipython",
    "version": 3
   },
   "file_extension": ".py",
   "mimetype": "text/x-python",
   "name": "python",
   "nbconvert_exporter": "python",
   "pygments_lexer": "ipython3",
   "version": "3.9.7"
  }
 },
 "nbformat": 4,
 "nbformat_minor": 5
}
